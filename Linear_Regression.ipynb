{
  "cells": [
    {
      "cell_type": "markdown",
      "metadata": {
        "id": "view-in-github",
        "colab_type": "text"
      },
      "source": [
        "<a href=\"https://colab.research.google.com/github/ksumesh21/Machine-Learning/blob/main/Linear_Regression.ipynb\" target=\"_parent\"><img src=\"https://colab.research.google.com/assets/colab-badge.svg\" alt=\"Open In Colab\"/></a>"
      ]
    },
    {
      "cell_type": "code",
      "execution_count": null,
      "metadata": {
        "id": "EHUj8kAbnWB7"
      },
      "outputs": [],
      "source": [
        "import numpy as np\n",
        "import pandas as pd"
      ]
    },
    {
      "cell_type": "code",
      "execution_count": null,
      "metadata": {
        "id": "f4Yjskshn8ML"
      },
      "outputs": [],
      "source": [
        "def get_cost(y,y_pred):\n",
        "    m=y.shape[0]\n",
        "    return (1/(2*m))*np.sum(np.square(y_pred-y))"
      ]
    },
    {
      "cell_type": "code",
      "execution_count": null,
      "metadata": {
        "id": "PSjMbDVdpE0o"
      },
      "outputs": [],
      "source": [
        "def gradient_descent(x,y,y_pred,w,b,alpha):\n",
        "    m=y.shape[0]\n",
        "    y_diff=y_pred-y\n",
        "    w=w-alpha*(1/m)*np.matmul(y_diff,x)\n",
        "    b=b-alpha*(1/m)*np.sum(y_diff)\n",
        "    return w,b\n"
      ]
    },
    {
      "cell_type": "code",
      "execution_count": null,
      "metadata": {
        "id": "VgLWtTqayUvQ"
      },
      "outputs": [],
      "source": [
        "import matplotlib.pyplot as plt\n",
        "def linear_regression(x,y):\n",
        "    shape=x.shape\n",
        "    alpha=0.1\n",
        "    weight_history=[]\n",
        "    cost_history=[]\n",
        "    w=np.zeros(shape[1])\n",
        "    b=np.array([0])\n",
        "    y_pred=np.matmul(x,w.T)+b\n",
        "    \n",
        "    for i in range(1000):\n",
        "        cost=get_cost(y,y_pred)\n",
        "        weight_history.append(i)\n",
        "        cost_history.append(cost)     \n",
        "        w,b=gradient_descent(x,y,y_pred,w,b,alpha)\n",
        "        y_pred=np.matmul(x,w.T)+b\n",
        "        print(\"TTT\",y_pred)\n",
        "        \n",
        "   \n",
        "    plt.scatter(x[:,1],y)\n",
        "    return w,b"
      ]
    },
    {
      "cell_type": "code",
      "execution_count": 389,
      "metadata": {
        "colab": {
          "base_uri": "https://localhost:8080/",
          "height": 282
        },
        "id": "XkwUbfNb2Lku",
        "outputId": "a62c4dba-e778-44d0-fbda-2bcc464a6d08"
      },
      "outputs": [
        {
          "output_type": "stream",
          "name": "stdout",
          "text": [
            "[0.36408812 0.08919985 0.27826694 0.14501862 0.11151316] [4.92164922e-17]\n"
          ]
        },
        {
          "output_type": "display_data",
          "data": {
            "text/plain": [
              "<Figure size 432x288 with 1 Axes>"
            ],
            "image/png": "[encoded data removed]"
          },
          "metadata": {
            "needs_background": "light"
          }
        }
      ],
      "source": [
        "import pandas as pd\n",
        "df=pd.read_csv('Housing.csv')\n",
        "df_n=df[[\"area\",\"bedrooms\",\"bathrooms\",\"stories\",\"parking\"]]\n",
        "df_n=(df_n-df_n.mean())/(df_n.max()-df_n.min())\n",
        "x=df_n.to_numpy()\n",
        "y=(df['price']-df['price'].mean())/(df['price'].max()-df['price'].min())\n",
        "w,b=linear_regression(x,y)\n",
        "print(w,b)"
      ]
    },
    {
      "cell_type": "markdown",
      "metadata": {
        "id": "RMr58RlNfZ5Y"
      },
      "source": [
        "# New section"
      ]
    }
  ],
  "metadata": {
    "colab": {
      "collapsed_sections": [],
      "name": "Untitled3.ipynb",
      "provenance": [],
      "authorship_tag": "ABX9TyObIjFxlmxbZ4918UvfXRLr",
      "include_colab_link": true
    },
    "kernelspec": {
      "display_name": "Python 3",
      "name": "python3"
    },
    "language_info": {
      "name": "python"
    }
  },
  "nbformat": 4,
  "nbformat_minor": 0
}